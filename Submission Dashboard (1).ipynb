{
 "cells": [
  {
   "cell_type": "markdown",
   "id": "b3eddf28-2c26-45ed-83c1-916dc5117a7e",
   "metadata": {},
   "source": [
    "#**Covid19 Dashboard**"
   ]
  },
  {
   "cell_type": "markdown",
   "id": "1aad0ecb-f1df-44b2-837c-f0d4b723bd7f",
   "metadata": {},
   "source": [
    "###This Dashboard plots new cases of Covid-19 by specimen date and the 7-day average of those cases against hospital admissions and new deaths within 28 days of a Covid-19 diagnosis.###\n",
    "\n",
    "Please select desired area from the toggle box:"
   ]
  },
  {
   "cell_type": "code",
   "execution_count": 1,
   "id": "e60f6110-029d-452b-84b9-37ce566419c4",
   "metadata": {},
   "outputs": [],
   "source": [
    "#The First step to running my dashboard is to perform the necessary imports.\n",
    "#I'm importing a number of modules to process and plot the data, and ipywidgets to provide interactive controls.\n",
    "\n",
    "from IPython.display import clear_output\n",
    "import ipywidgets as wdg\n",
    "from ipywidgets import HBox\n",
    "import numpy as np\n",
    "import pandas as pd\n",
    "import matplotlib.pyplot as plt\n",
    "import json\n",
    "from uk_covid19 import Cov19API\n",
    "from datetime import datetime"
   ]
  },
  {
   "cell_type": "code",
   "execution_count": 2,
   "id": "741ce47e-f17a-447d-8bcc-c631a30ea0cc",
   "metadata": {},
   "outputs": [],
   "source": [
    "%matplotlib inline\n",
    "# make figures larger\n",
    "plt.rcParams['figure.dpi'] = 100"
   ]
  },
  {
   "cell_type": "code",
   "execution_count": 3,
   "id": "dbba8947-8211-4441-9bb7-fd15d5b6123b",
   "metadata": {},
   "outputs": [],
   "source": [
    "#The next step is to import startup data:\n",
    "\n",
    "#Initialise global variables to store the json data in. They are global so they can be updated later by other functions.\n",
    "\n",
    "global cases_and_deaths\n",
    "global eng_only\n",
    "global sco_only\n",
    "global wal_only\n",
    "global ni_only\n",
    "\n",
    "#load UK data and separate country data\n",
    "with open(\"start_cases_and_deaths.json\", \"rt\") as INFILE:\n",
    "    cases_and_deaths=json.load(INFILE)\n",
    "    \n",
    "with open(\"eng_only_start_cases_and_deaths.json\", \"rt\") as INFILE:\n",
    "    eng_only = json.load(INFILE)\n",
    "    \n",
    "with open(\"sco_only_start_cases_and_deaths.json\", \"rt\") as INFILE:\n",
    "    sco_only = json.load(INFILE)\n",
    "\n",
    "with open(\"wal_only_start_cases_and_deaths.json\", \"rt\") as INFILE:\n",
    "    wal_only = json.load(INFILE)\n",
    "    \n",
    "with open(\"ni_only_start_cases_and_deaths.json\", \"rt\") as INFILE:\n",
    "    ni_only = json.load(INFILE)\n"
   ]
  },
  {
   "cell_type": "code",
   "execution_count": 4,
   "id": "94b7c3c3-1cfc-462d-a510-d2feb4a75659",
   "metadata": {},
   "outputs": [],
   "source": [
    "#Next, I will create my Data-Wrangling function\n",
    "\n",
    "#A date parsing function, to turn string dates into Pandas date objects.\n",
    "def parse_date(datestring):\n",
    "    return pd.to_datetime(datestring, format=\"%Y-%m-%d\")\n",
    "\n",
    "#The main data wrangling function.\n",
    "#it creates a data frame and populates it with cases, hospitalisations, deaths and a 7-day average of cases.\n",
    "def wrangle_cases_and_deaths_data(data):\n",
    "    \n",
    "    #extract the set of dicitonaries from the API response.\n",
    "    datalist=data['data']\n",
    "    \n",
    "    #create a list of dates and sort it\n",
    "    dates = [dictionary['date'] for dictionary in datalist]\n",
    "    dates.sort()\n",
    "\n",
    "    #create the date range\n",
    "    start_date = parse_date(dates[0])\n",
    "    end_date = parse_date(dates[-1])\n",
    "    drange = pd.date_range(start_date,end_date,freq=\"D\")\n",
    "    \n",
    "    #Create the empty dataframe with the date range and our desired column headings.\n",
    "    timeseriesdf = pd.DataFrame(index=drange, columns = [\"cases\", \"admissions\", \"deaths\", \"7 day average cases\"])\n",
    "    \n",
    "    #adding case admission and death data\n",
    "    for entry in datalist:\n",
    "        date = parse_date(entry[\"date\"])\n",
    "        for column in ['cases', 'admissions', 'deaths']:\n",
    "            #check that all dates have available data, and fill unavailable dates with 0.0\n",
    "            if pd.isna(timeseriesdf.loc[date, column]):\n",
    "                value = float(entry[column]) if entry[column]!= None else 0.0\n",
    "                timeseriesdf.loc[date, column] = value\n",
    "    \n",
    "    #code to calculate 7 day average \n",
    "    #for the first 6 days, it tallies up total cases\n",
    "    \n",
    "    current_total = 0\n",
    "    for i in range(len(datalist)):\n",
    "        entry = datalist[i]\n",
    "        cases = float(entry['cases']) if entry['cases'] != None else 0.0\n",
    "        date = parse_date(entry[\"date\"])\n",
    "        if i <5:\n",
    "            current_total += cases\n",
    "#On the 7th day, it divides the total cases by 7 to get the average and saves it to the data frame.\n",
    "\n",
    "        elif i == 6:\n",
    "            current_total += cases\n",
    "            current_av = current_total/7.0\n",
    "            timeseriesdf.loc[date, \"7 day average cases\"] = current_av\n",
    "#From then on, it deletes the case number from 7 days ago, adds a new one and recalculates and saves the average.\n",
    "        else:\n",
    "            del_entry = datalist[(i-7)]\n",
    "            del_cases = float(del_entry['cases']) if del_entry['cases'] != None else 0.0\n",
    "            current_total -= del_cases\n",
    "            current_total += cases\n",
    "            current_av = current_total/7.0\n",
    "            timeseriesdf.loc[date, \"7 day average cases\"] = current_av\n",
    "        i += 1\n",
    "            \n",
    "        \n",
    "    return timeseriesdf # return the populated dataframe"
   ]
  },
  {
   "cell_type": "code",
   "execution_count": 5,
   "id": "b1374f18-5cbb-49a5-8c32-981063061bb5",
   "metadata": {},
   "outputs": [],
   "source": [
    "#API accessing code - as my cases and deaths graphs are separated by nation,\n",
    "\n",
    "# For the individual nations, I've created a get data function that takes area as a parameter and uses it in the filter call.\n",
    "\n",
    "def get_area_data(area):\n",
    "    filters = [\"areaType=nation\", f\"areaName={area}\"]\n",
    "    structure={\"date\": \"date\",\n",
    "                  \"cases\": \"newCasesBySpecimenDate\",\n",
    "                  \"admissions\": \"newAdmissions\",\n",
    "                  \"deaths\": \"newDeaths28DaysByDeathDate\"}\n",
    "        \n",
    "    api = Cov19API(filters=filters, structure=structure)\n",
    "    data = api.get_json()\n",
    "    return data # return data read from the API\n",
    "\n",
    "#for the uk data, I've used \"areaType=Overview\"\n",
    "\n",
    "def get_uk_data():\n",
    "    \n",
    "    filters = [\"areaType=overview\"]\n",
    "    structure={\"date\": \"date\",\n",
    "                  \"cases\": \"newCasesBySpecimenDate\",\n",
    "                  \"admissions\": \"newAdmissions\",\n",
    "                  \"deaths\": \"newDeaths28DaysByDeathDate\"}\n",
    "    api = Cov19API(filters=filters, structure=structure)\n",
    "    data = api.get_json()\n",
    "    return data\n",
    "\n",
    "#the access api function itself - calls the global variables from earlier and updates them using the functions I just defined.\n",
    "\n",
    "def access_api():\n",
    "    global cases_and_deaths\n",
    "    global eng_only\n",
    "    global sco_only\n",
    "    global wal_only\n",
    "    global ni_only\n",
    "    \n",
    "    cases_and_deaths = get_uk_data()\n",
    "    eng_only = get_area_data(\"England\")\n",
    "    wal_only = get_area_data(\"Wales\")\n",
    "    sco_only = get_area_data(\"Scotland\")\n",
    "    ni_only = get_area_data(\"Northern Ireland\")"
   ]
  },
  {
   "cell_type": "code",
   "execution_count": 6,
   "id": "d16e0597-fc8f-449a-876d-24f6af4529fe",
   "metadata": {},
   "outputs": [],
   "source": [
    "#the button callback function\n",
    "def api_button_callback(button):\n",
    "    #update the json data, accounting for errors\n",
    "    try:\n",
    "        access_api()\n",
    "        #This code updates the button label to show the time it was updated\n",
    "        time = datetime.now()\n",
    "        time = time.strftime(\"%H:%M:%S\")\n",
    "        button.description = f\"data updated at: {time}\"\n",
    "        # refresh the graph using a 'trick' function, that switches the graph option to another option and back again.\n",
    "        refresh_graph()\n",
    "        # update the button icon and tooltip to account for the update having happened.\n",
    "        apibutton.icon=\"check\"\n",
    "        button.tooltip=f\"data updated at: {time}\"\n",
    "    except:\n",
    "        print(\"update failed\")\n",
    "\n",
    "# Create my update button, with appropriate parameters.\n",
    "apibutton=wdg.Button(\n",
    "    description='Refresh Data', # you may want to change this...\n",
    "    disabled=False,\n",
    "    layout=wdg.Layout(width='200px'), # Changed the width to make sure whole time displays\n",
    "    button_style='info',\n",
    "    tooltip=\"Click to refresh data\",\n",
    "    icon=\"exclamation-triangle\"\n",
    ")\n",
    "\n",
    "# registering callback function\n",
    "apibutton.on_click(api_button_callback)\n"
   ]
  },
  {
   "cell_type": "code",
   "execution_count": 16,
   "id": "0afaac41-20b7-4c86-aacf-f52e8b542f9f",
   "metadata": {},
   "outputs": [
    {
     "data": {
      "application/vnd.jupyter.widget-view+json": {
       "model_id": "842acdcabaa14204aa8037a671a7ce88",
       "version_major": 2,
       "version_minor": 0
      },
      "text/plain": [
       "HBox(children=(ToggleButtons(description='Area: ', options=('UK', 'England', 'Wales', 'Scotland', 'Northern Ir…"
      ]
     },
     "metadata": {},
     "output_type": "display_data"
    },
    {
     "data": {
      "application/vnd.jupyter.widget-view+json": {
       "model_id": "1becbf02ccbf43a7b948c06b42de4b29",
       "version_major": 2,
       "version_minor": 0
      },
      "text/plain": [
       "Output()"
      ]
     },
     "metadata": {},
     "output_type": "display_data"
    }
   ],
   "source": [
    "# function that returns desired JSON data from one of the global variables.\n",
    "\n",
    "def get_data(area):\n",
    "    if area == \"UK\":\n",
    "        return cases_and_deaths\n",
    "    if area == 'England':\n",
    "        return eng_only\n",
    "    if area == 'Wales':\n",
    "        return wal_only\n",
    "    if area == 'Scotland':\n",
    "        return sco_only\n",
    "    if area == 'Northern Ireland':\n",
    "        return ni_only\n",
    "\n",
    "# plotting function - recalculates the dataframe based on the fresh data and plots it\n",
    "def plot_cases_and_deaths(area):\n",
    "    jsondata = get_data(area)\n",
    "    df = wrangle_cases_and_deaths_data(jsondata)    \n",
    "    df.plot(figsize=(12,6)) #setting the size to get the x axis a bit longer,\n",
    "    plt.legend() \n",
    "    plt.show()\n",
    "\n",
    "# Graph refreshing function - uses a trick, in that it switches\n",
    "# the graph to a different panel and then switches back to the original\n",
    "# to force a redraw.\n",
    "\n",
    "def refresh_graph():\n",
    "    current = whicharea.value\n",
    "    other = whicharea.options[1]\n",
    "    if current == whicharea.options[1]:\n",
    "        other = whicharea.options[0]\n",
    "    else:\n",
    "        other == whicharea.options[1]\n",
    "    whicharea.value = other\n",
    "    whicharea.value = current\n",
    "\n",
    "# creating the toggle buttons, with a label for each country/area.\n",
    "whicharea=wdg.ToggleButtons(\n",
    "    options=['UK', 'England', 'Wales', 'Scotland', 'Northern Ireland'],\n",
    "    value='UK',\n",
    "    description='Area: ',\n",
    "    disabled=False,\n",
    ")\n",
    "\n",
    "# placing the toggles in an HBox to get them to display horizontally\n",
    "toggle_box = HBox([whicharea])\n",
    "\n",
    "# using the interactive output method to pass the value of the toggle button into the plot_cases_and_deaths function\n",
    "graph=wdg.interactive_output(plot_cases_and_deaths, {'area': whicharea})\n",
    "\n",
    "# displaying the toggles and graph\n",
    "display(toggle_box, graph)"
   ]
  },
  {
   "cell_type": "markdown",
   "id": "d2931219-d551-4787-ad9a-6e5b011e100a",
   "metadata": {},
   "source": [
    "Initial data downloaded on 5/12/21. \n",
    "Please click the button below to update the graph with the latest available data."
   ]
  },
  {
   "cell_type": "code",
   "execution_count": 8,
   "id": "d04939e5-1f1b-470d-9c44-45e0c5ae6b30",
   "metadata": {},
   "outputs": [
    {
     "data": {
      "application/vnd.jupyter.widget-view+json": {
       "model_id": "1709c50bfdbc4e058eb0f8adc4732acd",
       "version_major": 2,
       "version_minor": 0
      },
      "text/plain": [
       "Button(button_style='info', description='Refresh Data', icon='exclamation-triangle', layout=Layout(width='200p…"
      ]
     },
     "metadata": {},
     "output_type": "display_data"
    }
   ],
   "source": [
    "#api button displayed down here to allow the markdown box above!\n",
    "display(apibutton)"
   ]
  },
  {
   "cell_type": "markdown",
   "id": "6b158394-a2ef-451d-a390-137235d05786",
   "metadata": {},
   "source": [
    "_DIY Covid-19 Dashboard (C) Harry Evans 2021 (ec21939@qmul.ac.uk)._\n",
    "_Based on UK Government data published by Public Health England Template by Dr. Fabrizio Smeraldi_"
   ]
  }
 ],
 "metadata": {
  "kernelspec": {
   "display_name": "Python 3 (ipykernel)",
   "language": "python",
   "name": "python3"
  },
  "language_info": {
   "codemirror_mode": {
    "name": "ipython",
    "version": 3
   },
   "file_extension": ".py",
   "mimetype": "text/x-python",
   "name": "python",
   "nbconvert_exporter": "python",
   "pygments_lexer": "ipython3",
   "version": "3.9.6"
  }
 },
 "nbformat": 4,
 "nbformat_minor": 5
}
