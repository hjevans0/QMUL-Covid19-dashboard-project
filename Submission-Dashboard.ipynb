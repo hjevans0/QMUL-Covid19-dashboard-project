{
 "cells": [
  {
   "cell_type": "markdown",
   "id": "b3eddf28-2c26-45ed-83c1-916dc5117a7e",
   "metadata": {},
   "source": [
    "# **Covid19 Dashboard**"
   ]
  },
  {
   "cell_type": "markdown",
   "id": "1aad0ecb-f1df-44b2-837c-f0d4b723bd7f",
   "metadata": {},
   "source": [
    "## Daily Statistics ##\n",
    "\n",
    "This Dashboard plots new cases of Covid-19 by specimen date against hospital admissions and new deaths within 28 days of a Covid-19 diagnosis.\n",
    "\n",
    "Please select desired area from the toggle box:"
   ]
  },
  {
   "cell_type": "code",
   "execution_count": 1,
   "id": "e60f6110-029d-452b-84b9-37ce566419c4",
   "metadata": {},
   "outputs": [],
   "source": [
    "#The First step to running my dashboard is to perform the necessary imports.\n",
    "#I'm importing a number of modules to process and plot the data, and ipywidgets to provide interactive controls.\n",
    "\n",
    "from IPython.display import clear_output\n",
    "import ipywidgets as wdg\n",
    "from ipywidgets import HBox\n",
    "import numpy as np\n",
    "import pandas as pd\n",
    "import matplotlib.pyplot as plt\n",
    "import json\n",
    "from uk_covid19 import Cov19API\n",
    "from datetime import datetime"
   ]
  },
  {
   "cell_type": "code",
   "execution_count": 2,
   "id": "741ce47e-f17a-447d-8bcc-c631a30ea0cc",
   "metadata": {},
   "outputs": [],
   "source": [
    "%matplotlib inline\n",
    "# make figures larger\n",
    "plt.rcParams['figure.dpi'] = 100"
   ]
  },
  {
   "cell_type": "code",
   "execution_count": 3,
   "id": "dbba8947-8211-4441-9bb7-fd15d5b6123b",
   "metadata": {},
   "outputs": [],
   "source": [
    "#The next step is to import startup data:\n",
    "\n",
    "#Initialise global variables to store the json data in. They are global so they can be updated later by other functions.\n",
    "\n",
    "global cases_and_deaths\n",
    "global eng_only\n",
    "global sco_only\n",
    "global wal_only\n",
    "global ni_only\n",
    "\n",
    "#load UK data and separate country data\n",
    "with open(\"start_cases_and_deaths.json\", \"rt\") as INFILE:\n",
    "    cases_and_deaths=json.load(INFILE)\n",
    "    \n",
    "with open(\"eng_only_start_cases_and_deaths.json\", \"rt\") as INFILE:\n",
    "    eng_only = json.load(INFILE)\n",
    "    \n",
    "with open(\"sco_only_start_cases_and_deaths.json\", \"rt\") as INFILE:\n",
    "    sco_only = json.load(INFILE)\n",
    "\n",
    "with open(\"wal_only_start_cases_and_deaths.json\", \"rt\") as INFILE:\n",
    "    wal_only = json.load(INFILE)\n",
    "    \n",
    "with open(\"ni_only_start_cases_and_deaths.json\", \"rt\") as INFILE:\n",
    "    ni_only = json.load(INFILE)\n"
   ]
  },
  {
   "cell_type": "code",
   "execution_count": 4,
   "id": "94b7c3c3-1cfc-462d-a510-d2feb4a75659",
   "metadata": {},
   "outputs": [],
   "source": [
    "#Next, I will create my Data-Wrangling function\n",
    "\n",
    "#A date parsing function, to turn string dates into Pandas date objects.\n",
    "def parse_date(datestring):\n",
    "    return pd.to_datetime(datestring, format=\"%Y-%m-%d\")\n",
    "\n",
    "#The main data wrangling function.\n",
    "#it creates a data frame and populates it with cases, hospitalisations, deaths and a 7-day average of cases.\n",
    "def wrangle_cases_and_deaths_data(data):\n",
    "    \n",
    "    #extract the set of dicitonaries from the API response.\n",
    "    datalist=data['data']\n",
    "    \n",
    "    #create a list of dates and sort it\n",
    "    dates = [dictionary['date'] for dictionary in datalist]\n",
    "    dates.sort()\n",
    "\n",
    "    #create the date range\n",
    "    start_date = parse_date(dates[0])\n",
    "    end_date = parse_date(dates[-1])\n",
    "    drange = pd.date_range(start_date,end_date,freq=\"D\")\n",
    "    \n",
    "    #Create the empty dataframe with the date range and our desired column headings.\n",
    "    timeseriesdf = pd.DataFrame(index=drange, columns = [\"cases\", \"admissions\", \"deaths\", \"7 Day Average Cases\"])\n",
    "    \n",
    "    #adding case admission and death data\n",
    "    for entry in datalist:\n",
    "        date = parse_date(entry[\"date\"])\n",
    "        for column in ['cases', 'admissions', 'deaths']:\n",
    "            #check that all dates have available data, and fill unavailable dates with 0.0\n",
    "            if pd.isna(timeseriesdf.loc[date, column]):\n",
    "                value = float(entry[column]) if entry[column]!= None else 0.0\n",
    "                timeseriesdf.loc[date, column] = value\n",
    "    \n",
    "    #code to calculate 7 day average \n",
    "    #for the first 6 days, it tallies up total cases\n",
    "    \n",
    "    current_total = 0\n",
    "    for i in range(len(datalist)):\n",
    "        entry = datalist[i]\n",
    "        cases = float(entry['cases']) if entry['cases'] != None else 0.0\n",
    "        date = parse_date(entry[\"date\"])\n",
    "        if i <5:\n",
    "            current_total += cases\n",
    "#On the 7th day, it divides the total cases by 7 to get the average and saves it to the data frame.\n",
    "\n",
    "        elif i == 6:\n",
    "            current_total += cases\n",
    "            current_av = current_total/7.0\n",
    "            timeseriesdf.loc[date, \"7 Day Average Cases\"] = current_av\n",
    "#From then on, it deletes the case number from 7 days ago, adds a new one and recalculates and saves the average.\n",
    "        else:\n",
    "            del_entry = datalist[(i-7)]\n",
    "            del_cases = float(del_entry['cases']) if del_entry['cases'] != None else 0.0\n",
    "            current_total -= del_cases\n",
    "            current_total += cases\n",
    "            current_av = current_total/7.0\n",
    "            timeseriesdf.loc[date, \"7 Day Average Cases\"] = current_av\n",
    "        i += 1\n",
    "    # making column labels neat        \n",
    "    timeseriesdf = timeseriesdf.rename(columns = {'cases':'Cases', 'admissions': 'Hospital Admissions','deaths':'Deaths (within 28 days of +test)'})\n",
    "    \n",
    "    return timeseriesdf # return the populated dataframe"
   ]
  },
  {
   "cell_type": "code",
   "execution_count": 5,
   "id": "b1374f18-5cbb-49a5-8c32-981063061bb5",
   "metadata": {},
   "outputs": [],
   "source": [
    "#API accessing code - as my cases and deaths graphs are separated by nation,\n",
    "\n",
    "# For the individual nations, I've created a get data function that takes area as a parameter and uses it in the filter call.\n",
    "\n",
    "def get_area_data(area):\n",
    "    filters = [\"areaType=nation\", f\"areaName={area}\"]\n",
    "    structure={\"date\": \"date\",\n",
    "                  \"cases\": \"newCasesBySpecimenDate\",\n",
    "                  \"admissions\": \"newAdmissions\",\n",
    "                  \"deaths\": \"newDeaths28DaysByDeathDate\"}\n",
    "        \n",
    "    api = Cov19API(filters=filters, structure=structure)\n",
    "    data = api.get_json()\n",
    "    return data # return data read from the API\n",
    "\n",
    "#for the uk data, I've used \"areaType=Overview\"\n",
    "\n",
    "def get_uk_data():\n",
    "    \n",
    "    filters = [\"areaType=overview\"]\n",
    "    structure={\"date\": \"date\",\n",
    "                  \"cases\": \"newCasesBySpecimenDate\",\n",
    "                  \"admissions\": \"newAdmissions\",\n",
    "                  \"deaths\": \"newDeaths28DaysByDeathDate\"}\n",
    "    api = Cov19API(filters=filters, structure=structure)\n",
    "    data = api.get_json()\n",
    "    return data\n",
    "\n",
    "#the access api function itself - calls the global variables from earlier and updates them using the functions I just defined.\n",
    "\n",
    "def access_api():\n",
    "    global cases_and_deaths\n",
    "    global eng_only\n",
    "    global sco_only\n",
    "    global wal_only\n",
    "    global ni_only\n",
    "    \n",
    "    cases_and_deaths = get_uk_data()\n",
    "    eng_only = get_area_data(\"England\")\n",
    "    wal_only = get_area_data(\"Wales\")\n",
    "    sco_only = get_area_data(\"Scotland\")\n",
    "    ni_only = get_area_data(\"Northern Ireland\")"
   ]
  },
  {
   "cell_type": "code",
   "execution_count": 6,
   "id": "d16e0597-fc8f-449a-876d-24f6af4529fe",
   "metadata": {},
   "outputs": [],
   "source": [
    "#the button callback function\n",
    "def api_button_callback(button):\n",
    "    #update the json data, accounting for errors\n",
    "    try:\n",
    "        access_api()\n",
    "        #This code updates the button label to show the time it was updated\n",
    "        time = datetime.now()\n",
    "        time = time.strftime(\"%H:%M:%S\")\n",
    "        button.description = f\"data updated at: {time}\"\n",
    "        # refresh the graph using a 'trick' function, that switches the graph option to another option and back again.\n",
    "        refresh_graph()\n",
    "        # update the button icon and tooltip to account for the update having happened.\n",
    "        apibutton.icon=\"check\"\n",
    "        button.tooltip=f\"data updated at: {time}\"\n",
    "    except:\n",
    "        print(\"update failed\")\n",
    "\n",
    "# Create my update button, with appropriate parameters.\n",
    "apibutton=wdg.Button(\n",
    "    description='Refresh Data', # you may want to change this...\n",
    "    disabled=False,\n",
    "    layout=wdg.Layout(width='200px'), # Changed the width to make sure whole time displays\n",
    "    button_style='info',\n",
    "    tooltip=\"Click to refresh data\",\n",
    "    icon=\"exclamation-triangle\"\n",
    ")\n",
    "\n",
    "# registering callback function\n",
    "apibutton.on_click(api_button_callback)\n"
   ]
  },
  {
   "cell_type": "code",
   "execution_count": 7,
   "id": "0afaac41-20b7-4c86-aacf-f52e8b542f9f",
   "metadata": {},
   "outputs": [
    {
     "data": {
      "text/plain": [
       "<Figure size 600x400 with 0 Axes>"
      ]
     },
     "metadata": {},
     "output_type": "display_data"
    },
    {
     "data": {
      "application/vnd.jupyter.widget-view+json": {
       "model_id": "0319792055fd4c23966a69ce9689709a",
       "version_major": 2,
       "version_minor": 0
      },
      "text/plain": [
       "HBox(children=(ToggleButtons(description='Area: ', options=('UK', 'England', 'Wales', 'Scotland', 'Northern Ir…"
      ]
     },
     "metadata": {},
     "output_type": "display_data"
    },
    {
     "data": {
      "application/vnd.jupyter.widget-view+json": {
       "model_id": "2cce7e44138841c1b0128ce6a8d15870",
       "version_major": 2,
       "version_minor": 0
      },
      "text/plain": [
       "Output()"
      ]
     },
     "metadata": {},
     "output_type": "display_data"
    }
   ],
   "source": [
    "# function that returns desired JSON data from one of the global variables.\n",
    "\n",
    "def get_data(area):\n",
    "    if area == \"UK\":\n",
    "        return cases_and_deaths\n",
    "    if area == 'England':\n",
    "        return eng_only\n",
    "    if area == 'Wales':\n",
    "        return wal_only\n",
    "    if area == 'Scotland':\n",
    "        return sco_only\n",
    "    if area == 'Northern Ireland':\n",
    "        return ni_only\n",
    "\n",
    "# plotting function - recalculates the dataframe based on the fresh data and plots it\n",
    "def plot_cases_and_deaths(area):\n",
    "    jsondata = get_data(area)\n",
    "    df = wrangle_cases_and_deaths_data(jsondata)    \n",
    "    df.plot(figsize=(12,6)) #setting the size to show plenty of information\n",
    "    plt.legend() \n",
    "\n",
    "def refresh_graph():\n",
    "    current = whicharea.value\n",
    "    other = whicharea.options[1]\n",
    "    if current == whicharea.options[1]:\n",
    "        other = whicharea.options[0]\n",
    "    else:\n",
    "        other == whicharea.options[1]\n",
    "    whicharea.value = other\n",
    "    whicharea.value = current\n",
    "\n",
    "whicharea=wdg.ToggleButtons(\n",
    "    options=['UK', 'England', 'Wales', 'Scotland', 'Northern Ireland'],\n",
    "    value='UK',\n",
    "    description='Area: ',\n",
    "    disabled=False,\n",
    ")\n",
    "\n",
    "toggle_box = HBox([whicharea])\n",
    "\n",
    "graph=wdg.interactive_output(plot_cases_and_deaths, {'area': whicharea})\n",
    "    \n",
    "display(toggle_box, graph)"
   ]
  },
  {
   "cell_type": "markdown",
   "id": "d2931219-d551-4787-ad9a-6e5b011e100a",
   "metadata": {},
   "source": [
    "Initial data downloaded on 5/12/21. \n",
    "Please click the button below to update the graph with the latest available data."
   ]
  },
  {
   "cell_type": "code",
   "execution_count": 8,
   "id": "d04939e5-1f1b-470d-9c44-45e0c5ae6b30",
   "metadata": {},
   "outputs": [
    {
     "data": {
      "application/vnd.jupyter.widget-view+json": {
       "model_id": "b08b8037bae84b598ac242e0537ae608",
       "version_major": 2,
       "version_minor": 0
      },
      "text/plain": [
       "Button(button_style='info', description='Refresh Data', icon='exclamation-triangle', layout=Layout(width='200p…"
      ]
     },
     "metadata": {},
     "output_type": "display_data"
    }
   ],
   "source": [
    "display(apibutton)"
   ]
  },
  {
   "cell_type": "markdown",
   "id": "adb42da2-fcae-4a12-885b-622abe57a3e9",
   "metadata": {},
   "source": [
    "##The Vaccine Effect##\n",
    "\n",
    "This Graph shows the effect of Vaccines on number of daily deaths from Covid-19. It plots the cumulative number of vaccinated people against the number of deaths from Covid (x 100,000 so the numbers are comparale), and in the first few months of the vaccine roll out, a clear drop in the number of deaths can be seen. \n",
    "\n",
    "One can also observe the effects of waning immunity - the number of deaths begins creeping up from July, around 6 months after most vulnerable cohorts were vaccinated. However, since the UK booster jab rollout began in Novmber, this number has started falling again. \n",
    "\n",
    "The slider below allows the user to zoom in on a particular range of dates.\n",
    "\n",
    "__(This graph automatically downloads the latest available data from . If the graph is not displaying, there may be issues with the PHE API.)__"
   ]
  },
  {
   "cell_type": "code",
   "execution_count": 59,
   "id": "b6536d3b-d8ef-4f2b-8fc1-a541636a905d",
   "metadata": {},
   "outputs": [
    {
     "data": {
      "application/vnd.jupyter.widget-view+json": {
       "model_id": "0d27e8a6e5db4763bf0caf696cfd3c72",
       "version_major": 2,
       "version_minor": 0
      },
      "text/plain": [
       "Output()"
      ]
     },
     "metadata": {},
     "output_type": "display_data"
    },
    {
     "data": {
      "application/vnd.jupyter.widget-view+json": {
       "model_id": "e2e6bf88254c48389268a751d8fc4efa",
       "version_major": 2,
       "version_minor": 0
      },
      "text/plain": [
       "IntRangeSlider(value=(0, 331), description='Date range selector: ', layout=Layout(width='850px'), max=331, rea…"
      ]
     },
     "metadata": {},
     "output_type": "display_data"
    }
   ],
   "source": [
    "#getting data from the api\n",
    "filters = [\"areaType=overview\"]\n",
    "\n",
    "vaccines_and_deaths={\"date\": \"date\",\n",
    "                  \"vaccines\": \"cumVaccinesGivenByPublishDate\",\n",
    "                  \"deaths\": \"newDeaths28DaysByDeathDate\"}\n",
    "\n",
    "api = Cov19API(filters=filters, structure=vaccines_and_deaths)\n",
    "vaccinations = api.get_json()\n",
    "\n",
    "\n",
    "# a small function to calculate the max value for the range slider. \n",
    "# first, load the data list\n",
    "datalist = vaccinations['data']\n",
    "\n",
    "#next, use a while loop to find the positon of the first entry with no vaccination data\n",
    "global v_index\n",
    "v_index = 0\n",
    "while True:\n",
    "    entry = datalist[v_index]\n",
    "    vax = entry['vaccines']\n",
    "    if vax == None:\n",
    "        break\n",
    "    v_index += 1\n",
    "# subtract 1 to get the last index WITH vaccination data. \n",
    "v_index -= 1\n",
    "\n",
    "datalist = datalist[:v_index] # make sure we only use list entries with vaccination data\n",
    "dates = [entry['date'] for entry in datalist] # find valid dates\n",
    "l = len(dates) # find the number of valid dates\n",
    "maxi = (l - 1)\n",
    "\n",
    "#creating the range slider - I used an int slider so I could use the values as list indexes\n",
    "\n",
    "range_slider = wdg.IntRangeSlider(value =[0,maxi],\n",
    "                                 min = 0,\n",
    "                                 max = maxi,\n",
    "                                 step = 1,\n",
    "                                 description = 'Date range selector: ',\n",
    "                                 disabled = False,\n",
    "                                 continuous_update=True,\n",
    "                                 orientation='horizontal',\n",
    "                                 readout=False,\n",
    "                                 layout={'width': '850px'},\n",
    "                                 style = {'description_width': 'initial'} # displaying the long description\n",
    "                                 )    \n",
    "def get_date_range(i, j, datalist):\n",
    "    \n",
    "    #create a list of dates and sort it\n",
    "    dates = [dictionary['date'] for dictionary in datalist]\n",
    "    dates.sort()\n",
    "\n",
    "    #create the date range\n",
    "    start_date = parse_date(dates[i])\n",
    "    end_date = parse_date(dates[j])\n",
    "    drange = pd.date_range(start_date,end_date,freq=\"D\")\n",
    "    return drange\n",
    "    \n",
    "#wrangle the data, taking values from the slider\n",
    "def wrangle_and_plot_vaccines(vals):\n",
    "    i = vals[0]\n",
    "    j = vals[1]\n",
    "    datalist=vaccinations['data']\n",
    "    datalist = datalist[:v_index] # same reasoning as earlier\n",
    "    drange = get_date_range(i, j, datalist)\n",
    "    \n",
    "    #create the empty data frame\n",
    "    vdf = pd.DataFrame(index = drange, columns = ['vaccines', 'deaths'])\n",
    "    \n",
    "    for entry in datalist:\n",
    "        date = parse_date(entry[\"date\"])\n",
    "        for column in ['vaccines', 'deaths']:\n",
    "            #the int slider values were throwing some key errors with the .loc function, so I included this try block to get around it.\n",
    "            # invalid dates can be simply ignored i.e. not plotted.\n",
    "            try:\n",
    "                if pd.isna(vdf.loc[date, column]):\n",
    "                    value = int(entry[column]) if entry[column]!= None else 0\n",
    "                    if column == 'deaths': # the raw number of deaths is far lower than cumulative vaccines (which reach the milliions!).\n",
    "                        value *= 100000    # therefore, I multiplied the numebr of deaths by 100,000 to scale them up to a similar level and allow observaion of trends.\n",
    "                    vdf.loc[date, column] = value\n",
    "            except KeyError: # move onto the next entry if there's a key error.\n",
    "                next\n",
    "    vdf = vdf.rename(columns={'vaccines':'Cumulative Vaccines','deaths':'Deaths (x100,000)'}) # renaming columns to make them neat and informative\n",
    "    vdf.plot(figsize=(12,6)) # matching the size of the other graph\n",
    "    \n",
    "\n",
    "plt.show()# show graphs\n",
    "v_graph=wdg.interactive_output(wrangle_and_plot_vaccines,{'vals': range_slider}) # use an interactive output to feed values into my wrangling/plotting function\n",
    "display(v_graph, range_slider)"
   ]
  },
  {
   "cell_type": "markdown",
   "id": "6b158394-a2ef-451d-a390-137235d05786",
   "metadata": {},
   "source": [
    "_DIY Covid-19 Dashboard (C) Harry Evans 2021 (ec21939@qmul.ac.uk)._\n",
    "_Based on UK Government data published by Public Health England._ \n",
    "_Template by Dr. Fabrizio Smeraldi_"
   ]
  }
 ],
 "metadata": {
  "kernelspec": {
   "display_name": "Python 3 (ipykernel)",
   "language": "python",
   "name": "python3"
  },
  "language_info": {
   "codemirror_mode": {
    "name": "ipython",
    "version": 3
   },
   "file_extension": ".py",
   "mimetype": "text/x-python",
   "name": "python",
   "nbconvert_exporter": "python",
   "pygments_lexer": "ipython3",
   "version": "3.9.6"
  }
 },
 "nbformat": 4,
 "nbformat_minor": 5
}
